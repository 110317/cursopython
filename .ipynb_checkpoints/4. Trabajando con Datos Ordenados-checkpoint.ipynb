{
 "cells": [
  {
   "cell_type": "markdown",
   "metadata": {},
   "source": [
    "# 4. Trabajando con Datos Ordenados\n",
    "\n",
    "Uno de los usos de python está relacionado con el procesamiento de datos. La mayoría de programas adquiere datos, procesa datos y entiende datos. Para esto python incluye una coleccción de estructuras de datos: listas, diccionarios, tuplas y conjuntos (lists, dictionaries, tuples and sets). "
   ]
  },
  {
   "cell_type": "markdown",
   "metadata": {},
   "source": [
    "Todo en python es un objeto. Los números, las cadenas, las funciones y los módulos son objetos. En ese sentido pueden ser asignados a variables. Como son objetos, van a ser una colección de estados (variables o atributos) y de comportamientos (métodos). Aunque todo sea objeto no se requiere definir uno especial para ejecutar código en python."
   ]
  },
  {
   "cell_type": "markdown",
   "metadata": {},
   "source": [
    "Listas, tuplas, diccionarios y conjuntos no necesitan ser importados pues su uso es parte del lenguaje."
   ]
  },
  {
   "cell_type": "markdown",
   "metadata": {},
   "source": [
    "## Listas\n",
    "\n",
    "Una lista es muy similar a la noción de un arreglo. En este sentido puede entenderse como una colección indexada de objetos. A cada elemento le corresponde una posición. Una lista puede almacenar objetos de diferente tipo en la misma estructura. Es posible también añadir, remover, o cambiar objetos. Esto quiere decir que las listas son mutables."
   ]
  },
  {
   "cell_type": "markdown",
   "metadata": {},
   "source": [
    "## Tuplas"
   ]
  },
  {
   "cell_type": "markdown",
   "metadata": {},
   "source": [
    "Es una colección ordenada de objetos. Pero en este caso dicha colección no es mutable. Una vez se define o se asignan elementos a la tupla, la tupla no podrá ser cambiada bajo ninguna circunstancia. "
   ]
  },
  {
   "cell_type": "markdown",
   "metadata": {},
   "source": [
    "Las listas y las tuplas son útiles cuando se requiere mantener y conocer el orden de los elementos que se van a almacenar en ella. Sin embargo el orden no es importante en todos los casos. Un ejemplo de esto, es el almacenamiento de los detalles de un usuario (nombre, contraseña). Almacenar estos datos no requiere un orden específico."
   ]
  },
  {
   "cell_type": "markdown",
   "metadata": {},
   "source": [
    "## Diccionarios\n",
    "\n",
    "Permite almacenar parejas de tipo llave/valor. La llave se asume única y cada llave va a tener un valor asociado. Las llaves pueden ser de cualquier tipo de dato. Los diccionarios no mantienen un orden y son una estructura con dos columnas. Son estructuras de datos mutables, así que pueden crecer en tamaño."
   ]
  },
  {
   "cell_type": "markdown",
   "metadata": {},
   "source": [
    "## Conjuntos (Sets)\n",
    "\n",
    "Son muy útiles para remover elementos duplicados de cualquier otra colección. Adicionalmente presenta operaciones de unión, intersección o diferencia. Son una estructura de datos mutable por lo cual pueden cambiar su tamaño."
   ]
  },
  {
   "cell_type": "markdown",
   "metadata": {},
   "source": [
    "## Programando listas\n",
    "\n",
    "Ya hemos definido listas antes. Para esto, hemos definido valores que se encuentran dentro de corchetes. Los valores se encuentran separados por coma. "
   ]
  },
  {
   "cell_type": "markdown",
   "metadata": {},
   "source": [
    "Es posible definir listas de forma literal (se crea la lista y se le asigna un contenido): "
   ]
  },
  {
   "cell_type": "code",
   "execution_count": 8,
   "metadata": {},
   "outputs": [
    {
     "name": "stdout",
     "output_type": "stream",
     "text": [
      "['lunes', 'martes', 'miércoles', 'jueves', 'viernes', 'sábado']\n"
     ]
    }
   ],
   "source": [
    "dias = ['lunes', 'martes', 'miércoles', 'jueves', 'viernes', 'sábado']\n",
    "\n",
    "print(dias)"
   ]
  },
  {
   "cell_type": "code",
   "execution_count": null,
   "metadata": {},
   "outputs": [],
   "source": []
  },
  {
   "cell_type": "markdown",
   "metadata": {},
   "source": [
    "## Referencias: \n",
    "\n",
    "Barry, P. (2016). Head First Python: A Brain-Friendly Guide. \" O'Reilly Media, Inc.\".\n",
    "\n",
    "Guttag, John. Introduction to Computation and Programming Using Python: With Application to Understanding Data Second Edition. MIT Press, 2016. ISBN: 9780262529624.\n",
    "\n",
    "\n",
    "https://www.w3schools.com/PYTHON/"
   ]
  },
  {
   "cell_type": "code",
   "execution_count": null,
   "metadata": {},
   "outputs": [],
   "source": []
  }
 ],
 "metadata": {
  "kernelspec": {
   "display_name": "Python 3",
   "language": "python",
   "name": "python3"
  },
  "language_info": {
   "codemirror_mode": {
    "name": "ipython",
    "version": 3
   },
   "file_extension": ".py",
   "mimetype": "text/x-python",
   "name": "python",
   "nbconvert_exporter": "python",
   "pygments_lexer": "ipython3",
   "version": "3.7.3"
  }
 },
 "nbformat": 4,
 "nbformat_minor": 2
}
