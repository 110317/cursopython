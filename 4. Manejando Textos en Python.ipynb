{
 "cells": [
  {
   "cell_type": "markdown",
   "metadata": {},
   "source": [
    "### Strings Parte I\n",
    "\n",
    "Representan una cadena de caracteres.  Se pueden acceder como si fueran un arreglo y es posible procesar cada caracter del string usando la sentencia for:\n"
   ]
  },
  {
   "cell_type": "code",
   "execution_count": 2,
   "metadata": {},
   "outputs": [
    {
     "name": "stdout",
     "output_type": "stream",
     "text": [
      "pepe\n",
      "PEPE\n"
     ]
    }
   ],
   "source": [
    "s = input() #lee una cadena\n",
    "print(s.upper()) #muestra la cadena en mayúsculas"
   ]
  },
  {
   "cell_type": "code",
   "execution_count": 3,
   "metadata": {},
   "outputs": [
    {
     "name": "stdout",
     "output_type": "stream",
     "text": [
      "h,o,l,a, ,a,m,i,g,o,s, ,q,u,e,r,i,d,o,s,"
     ]
    }
   ],
   "source": [
    "s = \"hola amigos queridos\"\n",
    "\n",
    "for c in s:  #se puede iterar cada letra de la cadena\n",
    "  print(c + \",\", end='')"
   ]
  },
  {
   "cell_type": "code",
   "execution_count": 4,
   "metadata": {},
   "outputs": [
    {
     "name": "stdout",
     "output_type": "stream",
     "text": [
      "sodireuq sogima aloh"
     ]
    }
   ],
   "source": [
    "# o se puede invertir la cadena\n",
    "s = \"hola amigos queridos\"\n",
    "\n",
    "for i in range(len(s)-1,-1,-1):\n",
    "  print(s[i], end='')"
   ]
  },
  {
   "cell_type": "markdown",
   "metadata": {},
   "source": [
    "Permite dividir una cadena de texto en arreglos o en variables dada una cadena considerada como separador."
   ]
  },
  {
   "cell_type": "code",
   "execution_count": null,
   "metadata": {},
   "outputs": [],
   "source": [
    "### Split\n",
    "\n",
    "cad = str(input())\n",
    "num1, num2 = cad.split(' ')\n",
    "print('num 1:' + num1)\n",
    "print('num 2:' + num2)\n",
    "print(num1 + num2)"
   ]
  },
  {
   "cell_type": "code",
   "execution_count": null,
   "metadata": {},
   "outputs": [],
   "source": [
    "#en este código se pueden digitar dos números separados por &. Ejemplo 434354&23782375\n",
    "s = input()\n",
    "a,b = (int(x) for x in s.split(\"&\"))\n",
    "print(\"a=\" + str(a))\n",
    "print(\"b=\" + str(b))\n",
    "print(\"a+b=\" + str(a+b))"
   ]
  }
 ],
 "metadata": {
  "kernelspec": {
   "display_name": "Python 3",
   "language": "python",
   "name": "python3"
  },
  "language_info": {
   "codemirror_mode": {
    "name": "ipython",
    "version": 3
   },
   "file_extension": ".py",
   "mimetype": "text/x-python",
   "name": "python",
   "nbconvert_exporter": "python",
   "pygments_lexer": "ipython3",
   "version": "3.7.3"
  }
 },
 "nbformat": 4,
 "nbformat_minor": 2
}
