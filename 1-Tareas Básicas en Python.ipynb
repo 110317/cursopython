{
 "cells": [
  {
   "cell_type": "markdown",
   "metadata": {},
   "source": [
    "# 1. Programando tareas básicas en Python\n",
    "\n",
    "**Por Arles Rodríguez PhD**"
   ]
  },
  {
   "cell_type": "markdown",
   "metadata": {},
   "source": [
    "Python es un lenguaje poderoso y fácil de aprender. Posee estructuras de datos de alto nivel y una enfoque simple de orientación a objetos.\n",
    "\n",
    "Python permite dividir los programas en módulos que pueden ser reutilizados por otros programas. Adicionalmente, viene con una gran colección de módulos propios para realizar tareas de entrada y salida, llamadas al sistema, sockets, interfaces gráficas, etc.\n",
    "\n",
    "Python es un lenguaje interpretado. Esto quiere decir que para ejecutar un programa en este lenguaje se requiere la instalación de un intérprete. El intérprete puede ser usado interactivamente, lo cual hace fácil experimentar con características del lenguaje.\n"
   ]
  },
  {
   "cell_type": "markdown",
   "metadata": {},
   "source": [
    "## Python como Lenguaje\n",
    "\n",
    "Automatizar tareas es posible gracias a los lenguajes de programación. En ese sentido, entenderemos en este curso que programar es decirle al computador que haga lo que uno necesita que haga. Para comunicarnos con la máquina necesitaremos entender a python como un lenguaje."
   ]
  },
  {
   "cell_type": "markdown",
   "metadata": {},
   "source": [
    "## Enfoque del curso\n",
    "\n",
    "El enfoque del curso es práctico donde se espera obtener una perspectiva de aprender mientras se programa. Del mismo modo que se puede aprender a jugar fútbol con sus reglas principales, se puede aprender a programar escribiendo muchos programas durante el curso.\n",
    "\n",
    "Python utiliza ambientes de tipo REPL (Read-Eval-Print-Loop) en el cual es posible experimentar e ir avanzando en la medida en que se desarrollan los programas. Una mayor información sobre REPL puede encontrarse en el siguiente enlace: https://www.jungledisk.com/blog/2018/06/01/read-eval-print-loop-what-are-repls-and-how-to-use-them/\n",
    "\n"
   ]
  },
  {
   "cell_type": "markdown",
   "metadata": {},
   "source": [
    "## Algoritmos y resolución de Problemas"
   ]
  },
  {
   "cell_type": "markdown",
   "metadata": {},
   "source": [
    "Un algoritmo es una finita secuencia de pasos que resuelve un problema. A parte del dominio que se espera de un lenguaje, se pretende que el estudiante desarrolle una perspectiva algorítmica para solucionar problemas utilizando el computador."
   ]
  },
  {
   "cell_type": "markdown",
   "metadata": {},
   "source": [
    "### Instalando Python"
   ]
  },
  {
   "cell_type": "markdown",
   "metadata": {},
   "source": [
    "En este curso se presentarán dos opciones para utilizar una versión igual o superior a python 3.5: \n",
    "\n",
    "- Una versión en línea que provee google: https://colab.research.google.com/\n",
    "\n",
    "- Utilizar la distribución de anaconda (que incluye jupyter y spyder): https://www.anaconda.com/download/\n",
    "\n",
    "![](images/anaconda-installers.png \"https://www.anaconda.com/products/individual\")"
   ]
  },
  {
   "cell_type": "markdown",
   "metadata": {},
   "source": [
    "Una vez instalado procedemos a usar jupyter (web) o spyder (escritorio) para desarrollar nuestros programas en python.\n",
    "\n",
    "![](images/startanacondanavigator.png \"Seleccionamos inicio.\")\n",
    "![](images/anacondanav.png \"Aquí se puede seleccionar jupyter o spyder\")\n",
    "\n"
   ]
  },
  {
   "cell_type": "markdown",
   "metadata": {},
   "source": [
    "## Mi primer programa en Python: Componiendo reagueton"
   ]
  },
  {
   "cell_type": "markdown",
   "metadata": {},
   "source": [
    "Este código muestra un pequeño ejemplo de aplicación para generar letras de reaguetón utilizando python. espero que este programa resulte más motivador que el mundialmente famoso programa \"Hola Mundo\": https://en.wikipedia.org/wiki/%22Hello,_World!%22_program"
   ]
  },
  {
   "cell_type": "code",
   "execution_count": 11,
   "metadata": {},
   "outputs": [
    {
     "data": {
      "text/html": [
       "<iframe width=\"956\" height=\"538\" src=\"https://www.youtube.com/embed/6iOlB0QLy84\" frameborder=\"0\" allow=\"accelerometer; autoplay; encrypted-media; gyroscope; picture-in-picture\" allowfullscreen></iframe>"
      ],
      "text/plain": [
       "<IPython.core.display.HTML object>"
      ]
     },
     "execution_count": 11,
     "metadata": {},
     "output_type": "execute_result"
    }
   ],
   "source": [
    "# Youtube\n",
    "HTML('<iframe width=\"956\" height=\"538\" src=\"https://www.youtube.com/embed/6iOlB0QLy84\" frameborder=\"0\" allow=\"accelerometer; autoplay; encrypted-media; gyroscope; picture-in-picture\" allowfullscreen></iframe>')"
   ]
  },
  {
   "cell_type": "code",
   "execution_count": 1,
   "metadata": {},
   "outputs": [
    {
     "name": "stdout",
     "output_type": "stream",
     "text": [
      "letra generada: princess voy a jugal lento toda la noche sin compromiso\n"
     ]
    }
   ],
   "source": [
    "import random #se importa la librería de python random\n",
    "\n",
    "sujetos = [\"mami\", \"bebé\", \"princess\", \"mami\"]  #se define una lista\n",
    "intenciones = [\"yo quiero\", \"yo puedo\", \"yo vengo a\", \"voy a\"]\n",
    "verbos = [\"encendelte\", \"amalte\", \"ligal\", \"jugal\"]\n",
    "advs = [\"suave\", \"lento\", \"lápido\", \"fuelte\"]\n",
    "complementos_uno = [\"hasta que salga el sol\", \"toda la noche\", \"hasta el amanecer\", \"todo el día\"]\n",
    "complementos_dos = [\"sin anestesia\", \"sin compromiso\", \"feis to feis\", \"sin miedo\"]\n",
    "\n",
    "sujeto_seleccionado = random.choice(sujetos) #se utiliza la librería para seleccionar un elemento al azar de la lista sujetos\n",
    "intencion_seleccionada = random.choice(intenciones)\n",
    "verbo_seleccionado = random.choice(verbos)\n",
    "adv_seleccionado = random.choice(advs)\n",
    "compl1s_seleccionado = random.choice(complementos_uno)\n",
    "compl2s_seleccionado = random.choice(complementos_dos)\n",
    "\n",
    "print(\"letra generada: \" + sujeto_seleccionado + \" \" + intencion_seleccionada + \" \" + verbo_seleccionado + \" \" \n",
    "      + adv_seleccionado + \" \" + compl1s_seleccionado + \" \" + compl2s_seleccionado) #se imprime la canción\n"
   ]
  },
  {
   "cell_type": "markdown",
   "metadata": {},
   "source": [
    "# Ejercicio\n",
    "\n",
    "\n",
    "Con base en el anterior programa elabore un programa que genere un discurso político al azar:\n",
    "\n",
    "![](images/discurso.jpg \"Discurso\")\n"
   ]
  },
  {
   "cell_type": "markdown",
   "metadata": {},
   "source": [
    "## Referencias\n",
    "\n",
    "Barry, P. (2016). Head First Python: A Brain-Friendly Guide. \" O'Reilly Media, Inc.\".\n",
    "\n",
    "Guttag, John. Introduction to Computation and Programming Using Python: With Application to Understanding Data Second Edition. MIT Press, 2016. ISBN: 9780262529624.\n",
    "\n",
    "Tutorial oficial de python 3, disponible en: https://docs.python.org/3/tutorial/interpreter.html\n",
    "\n"
   ]
  }
 ],
 "metadata": {
  "kernelspec": {
   "display_name": "Python 3",
   "language": "python",
   "name": "python3"
  },
  "language_info": {
   "codemirror_mode": {
    "name": "ipython",
    "version": 3
   },
   "file_extension": ".py",
   "mimetype": "text/x-python",
   "name": "python",
   "nbconvert_exporter": "python",
   "pygments_lexer": "ipython3",
   "version": "3.7.3"
  }
 },
 "nbformat": 4,
 "nbformat_minor": 2
}
